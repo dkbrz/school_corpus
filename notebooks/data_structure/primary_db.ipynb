{
 "cells": [
  {
   "cell_type": "code",
   "execution_count": 142,
   "metadata": {},
   "outputs": [],
   "source": [
    "import sqlite3\n",
    "\n",
    "db = sqlite3.connect('../../data/school.db')\n",
    "cur = db.cursor()"
   ]
  },
  {
   "cell_type": "code",
   "execution_count": 3,
   "metadata": {},
   "outputs": [],
   "source": [
    "cur.execute(\"\"\"\n",
    "CREATE TABLE authors (\n",
    "id INTEGER PRIMARY KEY AUTOINCREMENT,\n",
    "wiki_id TEXT,\n",
    "surname TEXT,\n",
    "first_name TEXT,\n",
    "second_name TEXT\n",
    "birth_year INT,\n",
    "birth_month INT,\n",
    "birth_day INT,\n",
    "death_year INT,\n",
    "death_month INT,\n",
    "death_day INT\n",
    ")\n",
    "\"\"\")\n",
    "db.commit()"
   ]
  },
  {
   "cell_type": "code",
   "execution_count": 4,
   "metadata": {},
   "outputs": [],
   "source": [
    "cur.execute(\"\"\"\n",
    "CREATE TABLE texts (\n",
    "id INTEGER PRIMARY KEY AUTOINCREMENT,\n",
    "link TEXT,\n",
    "title TEXT,\n",
    "year INT\n",
    ")\n",
    "\"\"\")\n",
    "db.commit()"
   ]
  },
  {
   "cell_type": "code",
   "execution_count": 5,
   "metadata": {},
   "outputs": [],
   "source": [
    "cur.execute(\"\"\"\n",
    "CREATE TABLE text_to_author (\n",
    "id INTEGER PRIMARY KEY AUTOINCREMENT,\n",
    "id_text INT,\n",
    "id_author INT\n",
    ")\n",
    "\"\"\")\n",
    "db.commit()"
   ]
  },
  {
   "cell_type": "code",
   "execution_count": 22,
   "metadata": {},
   "outputs": [],
   "source": [
    "cur.execute(\"\"\"\n",
    "CREATE TABLE text_popularity (\n",
    "id INTEGER PRIMARY KEY,\n",
    "wiki_page INT,\n",
    "pdf INT,\n",
    "litres INT\n",
    ")\n",
    "\"\"\")\n",
    "db.commit()"
   ]
  },
  {
   "cell_type": "code",
   "execution_count": 6,
   "metadata": {},
   "outputs": [],
   "source": [
    "import pandas as pd"
   ]
  },
  {
   "cell_type": "code",
   "execution_count": 76,
   "metadata": {},
   "outputs": [],
   "source": [
    "df = pd.read_csv('../../data/wiki_pdf_table_uni_wikidata.csv').drop(['Unnamed: 0', 'Unnamed: 0.1'], axis=1)"
   ]
  },
  {
   "cell_type": "code",
   "execution_count": 77,
   "metadata": {},
   "outputs": [
    {
     "data": {
      "text/html": [
       "<div>\n",
       "<style scoped>\n",
       "    .dataframe tbody tr th:only-of-type {\n",
       "        vertical-align: middle;\n",
       "    }\n",
       "\n",
       "    .dataframe tbody tr th {\n",
       "        vertical-align: top;\n",
       "    }\n",
       "\n",
       "    .dataframe thead th {\n",
       "        text-align: right;\n",
       "    }\n",
       "</style>\n",
       "<table border=\"1\" class=\"dataframe\">\n",
       "  <thead>\n",
       "    <tr style=\"text-align: right;\">\n",
       "      <th></th>\n",
       "      <th>Litres</th>\n",
       "      <th>PDF</th>\n",
       "      <th>Wiki</th>\n",
       "      <th>Имя</th>\n",
       "      <th>Short name</th>\n",
       "      <th>Отчество</th>\n",
       "      <th>Фамилия</th>\n",
       "      <th>Название</th>\n",
       "      <th>Ссылка</th>\n",
       "      <th>Score</th>\n",
       "      <th>Авт. Права</th>\n",
       "      <th>Дата смерти</th>\n",
       "      <th>Wiki id</th>\n",
       "      <th>Авт. права wiki</th>\n",
       "    </tr>\n",
       "  </thead>\n",
       "  <tbody>\n",
       "    <tr>\n",
       "      <th>0</th>\n",
       "      <td>0</td>\n",
       "      <td>0</td>\n",
       "      <td>1</td>\n",
       "      <td>NaN</td>\n",
       "      <td>NaN</td>\n",
       "      <td>NaN</td>\n",
       "      <td>Устное народное творчество</td>\n",
       "      <td>Помню, я ещё младшенька была…</td>\n",
       "      <td>ru.wikisource.org/wiki/%D0%9F%D0%BE%D0%BC%D0%B...</td>\n",
       "      <td>1</td>\n",
       "      <td>1</td>\n",
       "      <td>NaN</td>\n",
       "      <td>Q36192</td>\n",
       "      <td>1</td>\n",
       "    </tr>\n",
       "    <tr>\n",
       "      <th>1</th>\n",
       "      <td>0</td>\n",
       "      <td>0</td>\n",
       "      <td>1</td>\n",
       "      <td>NaN</td>\n",
       "      <td>NaN</td>\n",
       "      <td>NaN</td>\n",
       "      <td>Устное народное творчество</td>\n",
       "      <td>Ай вы, ветры, ветры буйные…</td>\n",
       "      <td>ru.wikisource.org/wiki/%D0%90%D0%B9_%D0%B2%D1%...</td>\n",
       "      <td>1</td>\n",
       "      <td>1</td>\n",
       "      <td>NaN</td>\n",
       "      <td>Q36192</td>\n",
       "      <td>1</td>\n",
       "    </tr>\n",
       "    <tr>\n",
       "      <th>2</th>\n",
       "      <td>0</td>\n",
       "      <td>0</td>\n",
       "      <td>1</td>\n",
       "      <td>Исторические</td>\n",
       "      <td>И</td>\n",
       "      <td>NaN</td>\n",
       "      <td>песни</td>\n",
       "      <td>Ермак готовится к походу на Сибирь</td>\n",
       "      <td>ru.wikisource.org/wiki/%D0%95%D1%80%D0%BC%D0%B...</td>\n",
       "      <td>1</td>\n",
       "      <td>1</td>\n",
       "      <td>NaN</td>\n",
       "      <td>Q48952271</td>\n",
       "      <td>1</td>\n",
       "    </tr>\n",
       "    <tr>\n",
       "      <th>3</th>\n",
       "      <td>0</td>\n",
       "      <td>0</td>\n",
       "      <td>1</td>\n",
       "      <td>Исторические</td>\n",
       "      <td>И</td>\n",
       "      <td>NaN</td>\n",
       "      <td>песни</td>\n",
       "      <td>Пугачёв в темнице</td>\n",
       "      <td>ru.wikisource.org/wiki/%D0%9F%D1%83%D0%B3%D0%B...</td>\n",
       "      <td>1</td>\n",
       "      <td>1</td>\n",
       "      <td>NaN</td>\n",
       "      <td>Q48952271</td>\n",
       "      <td>1</td>\n",
       "    </tr>\n",
       "    <tr>\n",
       "      <th>4</th>\n",
       "      <td>0</td>\n",
       "      <td>0</td>\n",
       "      <td>1</td>\n",
       "      <td>NaN</td>\n",
       "      <td>NaN</td>\n",
       "      <td>NaN</td>\n",
       "      <td>Русские народные сказки</td>\n",
       "      <td>Два Ивана —  солдатских сына</td>\n",
       "      <td>ru.wikisource.org/wiki/%D0%9D%D0%B0%D1%80%D0%B...</td>\n",
       "      <td>1</td>\n",
       "      <td>1</td>\n",
       "      <td>NaN</td>\n",
       "      <td>Q4400636</td>\n",
       "      <td>1</td>\n",
       "    </tr>\n",
       "  </tbody>\n",
       "</table>\n",
       "</div>"
      ],
      "text/plain": [
       "   Litres  PDF  Wiki           Имя Short name Отчество  \\\n",
       "0       0    0     1           NaN        NaN      NaN   \n",
       "1       0    0     1           NaN        NaN      NaN   \n",
       "2       0    0     1  Исторические          И      NaN   \n",
       "3       0    0     1  Исторические          И      NaN   \n",
       "4       0    0     1           NaN        NaN      NaN   \n",
       "\n",
       "                      Фамилия                            Название  \\\n",
       "0  Устное народное творчество       Помню, я ещё младшенька была…   \n",
       "1  Устное народное творчество         Ай вы, ветры, ветры буйные…   \n",
       "2                       песни  Ермак готовится к походу на Сибирь   \n",
       "3                       песни                   Пугачёв в темнице   \n",
       "4     Русские народные сказки        Два Ивана —  солдатских сына   \n",
       "\n",
       "                                              Ссылка  Score  Авт. Права  \\\n",
       "0  ru.wikisource.org/wiki/%D0%9F%D0%BE%D0%BC%D0%B...      1           1   \n",
       "1  ru.wikisource.org/wiki/%D0%90%D0%B9_%D0%B2%D1%...      1           1   \n",
       "2  ru.wikisource.org/wiki/%D0%95%D1%80%D0%BC%D0%B...      1           1   \n",
       "3  ru.wikisource.org/wiki/%D0%9F%D1%83%D0%B3%D0%B...      1           1   \n",
       "4  ru.wikisource.org/wiki/%D0%9D%D0%B0%D1%80%D0%B...      1           1   \n",
       "\n",
       "  Дата смерти    Wiki id  Авт. права wiki  \n",
       "0         NaN     Q36192                1  \n",
       "1         NaN     Q36192                1  \n",
       "2         NaN  Q48952271                1  \n",
       "3         NaN  Q48952271                1  \n",
       "4         NaN   Q4400636                1  "
      ]
     },
     "execution_count": 77,
     "metadata": {},
     "output_type": "execute_result"
    }
   ],
   "source": [
    "df.head()"
   ]
  },
  {
   "cell_type": "code",
   "execution_count": 78,
   "metadata": {},
   "outputs": [],
   "source": [
    "import requests\n",
    "from bs4 import BeautifulSoup"
   ]
  },
  {
   "cell_type": "code",
   "execution_count": 79,
   "metadata": {},
   "outputs": [],
   "source": [
    "URL = 'https://www.wikidata.org/w/index.php'\n",
    "\n",
    "params = {\n",
    "    'sort': 'relevance',\n",
    "    'search': 'Тютчев писатель',\n",
    "    'profile': 'advanced',\n",
    "    'fulltext': 1,\n",
    "    'ns0': 1,\n",
    "    'ns120': 1\n",
    "}\n",
    "soup = BeautifulSoup(requests.get(URL, params = params).text)"
   ]
  },
  {
   "cell_type": "code",
   "execution_count": 80,
   "metadata": {},
   "outputs": [],
   "source": [
    "def get_wikiid(name):\n",
    "    for profession in ['писатель','поэт','драматург', 'автор']:\n",
    "        try:\n",
    "            params = {\n",
    "                'sort': 'relevance',\n",
    "                'search': f'{name} {profession}',\n",
    "                'profile': 'advanced',\n",
    "                'fulltext': 1,\n",
    "                'ns0': 1,\n",
    "                'ns120': 1\n",
    "            }\n",
    "            soup = BeautifulSoup(requests.get(URL, params = params).text)\n",
    "            res = soup.find_all('div', {'class': 'mw-search-result-heading'})[0].find('a')\n",
    "            return res.attrs.get('href').split('/')[-1]\n",
    "        except:\n",
    "            pass\n",
    "    raise ValueError"
   ]
  },
  {
   "cell_type": "code",
   "execution_count": 81,
   "metadata": {},
   "outputs": [
    {
     "data": {
      "text/plain": [
       "37"
      ]
     },
     "execution_count": 81,
     "metadata": {},
     "output_type": "execute_result"
    }
   ],
   "source": [
    "len(df[df['Wiki id'].isna()]['Фамилия'].value_counts())"
   ]
  },
  {
   "cell_type": "code",
   "execution_count": 71,
   "metadata": {},
   "outputs": [
    {
     "name": "stdout",
     "output_type": "stream",
     "text": [
      "Пословицы и поговорки народов мира\n",
      "Эпосы, легенды и сказания\n",
      "Рубцов\n",
      "Крупин\n",
      "Пьеро\n",
      "Аленушкин\n",
      "Бустужев-Марлинский\n",
      "Чарушин\n",
      "Ишимова\n",
      "Мифы древних славян\n"
     ]
    }
   ],
   "source": [
    "wiki_additional = {}\n",
    "for name in df[df['Wiki id'].isna()]['Фамилия'].value_counts().index:\n",
    "    try:\n",
    "        wiki_additional[name] = get_wikiid(name)\n",
    "    except:\n",
    "        print(name)"
   ]
  },
  {
   "cell_type": "code",
   "execution_count": 82,
   "metadata": {},
   "outputs": [],
   "source": [
    "for key in range(df.shape[0]):\n",
    "    if df.iloc[key]['Фамилия'] in wiki_additional:\n",
    "        df.loc[key,'Wiki id'] = wiki_additional[df.iloc[key]['Фамилия']]"
   ]
  },
  {
   "cell_type": "code",
   "execution_count": 83,
   "metadata": {},
   "outputs": [
    {
     "data": {
      "text/plain": [
       "Пословицы и поговорки народов мира    4\n",
       "Рубцов                                3\n",
       "Эпосы, легенды и сказания             3\n",
       "Крупин                                3\n",
       "Пьеро                                 2\n",
       "Аленушкин                             1\n",
       "Чарушин                               1\n",
       "Бустужев-Марлинский                   1\n",
       "Мифы древних славян                   1\n",
       "Ишимова                               1\n",
       "Name: Фамилия, dtype: int64"
      ]
     },
     "execution_count": 83,
     "metadata": {},
     "output_type": "execute_result"
    }
   ],
   "source": [
    "df[df['Wiki id'].isna()]['Фамилия'].value_counts()"
   ]
  },
  {
   "cell_type": "code",
   "execution_count": 52,
   "metadata": {},
   "outputs": [
    {
     "data": {
      "text/plain": [
       "'/wiki/Q4467740'"
      ]
     },
     "execution_count": 52,
     "metadata": {},
     "output_type": "execute_result"
    }
   ],
   "source": [
    "soup.find_all('div', {'class': 'mw-search-result-heading'})[0].find('a').attrs.get('href')"
   ]
  },
  {
   "cell_type": "code",
   "execution_count": 33,
   "metadata": {},
   "outputs": [
    {
     "data": {
      "text/plain": [
       "Тютчев                                21\n",
       "Булгаков                               6\n",
       "Гончаров                               5\n",
       "Пословицы и поговорки народов мира     4\n",
       "Носов                                  4\n",
       "Твен                                   4\n",
       "Эпосы, легенды и сказания              3\n",
       "Рубцов                                 3\n",
       "Крупин                                 3\n",
       "Мольер                                 3\n",
       "Тендряков                              3\n",
       "Замятин                                2\n",
       "Гайдар                                 2\n",
       "Житков                                 2\n",
       "Пьеро                                  2\n",
       "Арбузов                                2\n",
       "Фонвизин                               2\n",
       "Байрон                                 2\n",
       "Булычёв                                2\n",
       "Аленушкин                              1\n",
       "Бустужев-Марлинский                    1\n",
       "Даррел                                 1\n",
       "Чарушин                                1\n",
       "Сервантес                              1\n",
       "Грин                                   1\n",
       "Успенский                              1\n",
       "Тынянов                                1\n",
       "Искандер                               1\n",
       "Дружинин                               1\n",
       "Ишимова                                1\n",
       "Мифы древних славян                    1\n",
       "Помяловский                            1\n",
       "Барто                                  1\n",
       "Лондон                                 1\n",
       "Пермяк                                 1\n",
       "Сладков                                1\n",
       "Андерсен                               1\n",
       "Name: Фамилия, dtype: int64"
      ]
     },
     "execution_count": 33,
     "metadata": {},
     "output_type": "execute_result"
    }
   ],
   "source": [
    "df[df['Wiki id'].isna()]['Фамилия'].value_counts()"
   ]
  },
  {
   "cell_type": "code",
   "execution_count": 92,
   "metadata": {},
   "outputs": [],
   "source": [
    "authors_wiki = [tuple(row) for row in df[['Фамилия', 'Wiki id']].drop_duplicates().values]\n",
    "cur.executemany('INSERT INTO authors (surname, wiki_id) VALUES (?, ?)', authors_wiki)\n",
    "db.commit()"
   ]
  },
  {
   "cell_type": "code",
   "execution_count": 105,
   "metadata": {},
   "outputs": [],
   "source": [
    "texts = [tuple(row) for row in df[['Название', 'Ссылка']].values]\n",
    "cur.executemany('INSERT INTO texts (title, link) VALUES (?, ?)', texts)\n",
    "db.commit()"
   ]
  },
  {
   "cell_type": "code",
   "execution_count": 120,
   "metadata": {},
   "outputs": [],
   "source": [
    "cur.execute('SELECT surname, wiki_id, id FROM authors')\n",
    "authors = {row[:2]: row[2] for row in cur.fetchall()}"
   ]
  },
  {
   "cell_type": "code",
   "execution_count": null,
   "metadata": {},
   "outputs": [],
   "source": []
  },
  {
   "cell_type": "code",
   "execution_count": 121,
   "metadata": {},
   "outputs": [],
   "source": [
    "cur.execute('SELECT title, link, id FROM texts')\n",
    "texts = {row[:2]: row[2] for row in cur.fetchall()}"
   ]
  },
  {
   "cell_type": "code",
   "execution_count": 127,
   "metadata": {},
   "outputs": [],
   "source": [
    "df = df.where((pd.notnull(df)), None)"
   ]
  },
  {
   "cell_type": "code",
   "execution_count": 150,
   "metadata": {},
   "outputs": [],
   "source": [
    "popularity = []\n",
    "authors_ = []\n",
    "\n",
    "for key in range(df.shape[0]):\n",
    "    row = df.iloc[key]\n",
    "    id_text = texts[(row['Название'], row['Ссылка'])]\n",
    "    id_author = authors[(row['Фамилия'], row['Wiki id'] or None)]\n",
    "    popul = tuple([key+1] + list(row[['Litres', 'PDF', 'Wiki']]))\n",
    "    \n",
    "    popularity.append(popul)\n",
    "    authors_.append((id_text, id_author))"
   ]
  },
  {
   "cell_type": "code",
   "execution_count": 131,
   "metadata": {},
   "outputs": [],
   "source": [
    "cur.executemany('INSERT INTO text_to_author (id_text, id_author) VALUES (?, ?)', authors_)\n",
    "db.commit()"
   ]
  },
  {
   "cell_type": "code",
   "execution_count": 145,
   "metadata": {},
   "outputs": [
    {
     "data": {
      "text/plain": [
       "[0, 0, 1]"
      ]
     },
     "execution_count": 145,
     "metadata": {},
     "output_type": "execute_result"
    }
   ],
   "source": [
    "list(df.iloc[0][['Litres', 'PDF', 'Wiki']])"
   ]
  },
  {
   "cell_type": "code",
   "execution_count": 151,
   "metadata": {},
   "outputs": [
    {
     "data": {
      "text/plain": [
       "(1, 0, 0, 1)"
      ]
     },
     "execution_count": 151,
     "metadata": {},
     "output_type": "execute_result"
    }
   ],
   "source": [
    "popularity[0]"
   ]
  },
  {
   "cell_type": "code",
   "execution_count": 153,
   "metadata": {},
   "outputs": [],
   "source": [
    "import numpy as np\n",
    "sqlite3.register_adapter(np.int64, lambda val: int(val))\n",
    "sqlite3.register_adapter(np.int32, lambda val: int(val))"
   ]
  },
  {
   "cell_type": "code",
   "execution_count": 154,
   "metadata": {},
   "outputs": [],
   "source": [
    "cur.executemany('INSERT INTO text_popularity (id, litres, pdf, wiki_page) VALUES (?, ?, ?, ?)', popularity)\n",
    "db.commit()"
   ]
  },
  {
   "cell_type": "code",
   "execution_count": null,
   "metadata": {},
   "outputs": [],
   "source": []
  }
 ],
 "metadata": {
  "kernelspec": {
   "display_name": "Python 3",
   "language": "python",
   "name": "python3"
  },
  "language_info": {
   "codemirror_mode": {
    "name": "ipython",
    "version": 3
   },
   "file_extension": ".py",
   "mimetype": "text/x-python",
   "name": "python",
   "nbconvert_exporter": "python",
   "pygments_lexer": "ipython3",
   "version": "3.6.8"
  }
 },
 "nbformat": 4,
 "nbformat_minor": 2
}
